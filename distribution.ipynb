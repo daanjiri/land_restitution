{
 "cells": [
  {
   "cell_type": "code",
   "execution_count": 1,
   "metadata": {},
   "outputs": [
    {
     "name": "stdout",
     "output_type": "stream",
     "text": [
      "Character count dictionary has been saved to char_count_dict.json\n"
     ]
    }
   ],
   "source": [
    "import os\n",
    "import json\n",
    "\n",
    "# Load the JSON file back into a dictionary\n",
    "with open('filtered_dict.json', 'r') as json_file:\n",
    "    loaded_dict = json.load(json_file)\n",
    "\n",
    "# Create a new dictionary to hold the character count for each document\n",
    "char_count_dict = {}\n",
    "\n",
    "# Loop through each file in the loaded dictionary\n",
    "for file_name in loaded_dict.keys():\n",
    "    # Construct the file path\n",
    "    file_path = os.path.join('./processed_files', file_name)\n",
    "    \n",
    "    # Check if the file exists\n",
    "    if os.path.exists(file_path):\n",
    "        # Read the content of the file\n",
    "        with open(file_path, 'r') as file:\n",
    "            content = file.read()\n",
    "        \n",
    "        # Calculate the number of characters in the content\n",
    "        char_count = len(content)\n",
    "        \n",
    "        # Add the character count to the new dictionary\n",
    "        char_count_dict[file_name] = char_count\n",
    "    else:\n",
    "        print(f\"File not found: {file_path}\")\n",
    "\n",
    "# Save the new dictionary to a JSON file\n",
    "with open('char_count_dict.json', 'w') as json_file:\n",
    "    json.dump(char_count_dict, json_file, indent=4)\n",
    "\n",
    "print(\"Character count dictionary has been saved to char_count_dict.json\")\n"
   ]
  },
  {
   "cell_type": "code",
   "execution_count": 2,
   "metadata": {},
   "outputs": [
    {
     "name": "stdout",
     "output_type": "stream",
     "text": [
      "Character count CSV has been saved to char_count.csv\n"
     ]
    }
   ],
   "source": [
    "import csv\n",
    "import json\n",
    "\n",
    "# Load the character count dictionary from the JSON file\n",
    "with open('char_count_dict.json', 'r') as json_file:\n",
    "    char_count_dict = json.load(json_file)\n",
    "\n",
    "# Specify the CSV file name\n",
    "csv_file = 'char_count.csv'\n",
    "\n",
    "# Write the dictionary to the CSV file\n",
    "with open(csv_file, 'w', newline='') as csvfile:\n",
    "    fieldnames = ['File Name', 'Character Count']\n",
    "    writer = csv.DictWriter(csvfile, fieldnames=fieldnames)\n",
    "\n",
    "    writer.writeheader()\n",
    "    for file_name, char_count in char_count_dict.items():\n",
    "        writer.writerow({'File Name': file_name, 'Character Count': char_count})\n",
    "\n",
    "print(f\"Character count CSV has been saved to {csv_file}\")\n"
   ]
  }
 ],
 "metadata": {
  "kernelspec": {
   "display_name": "Python 3",
   "language": "python",
   "name": "python3"
  },
  "language_info": {
   "codemirror_mode": {
    "name": "ipython",
    "version": 3
   },
   "file_extension": ".py",
   "mimetype": "text/x-python",
   "name": "python",
   "nbconvert_exporter": "python",
   "pygments_lexer": "ipython3",
   "version": "3.10.12"
  }
 },
 "nbformat": 4,
 "nbformat_minor": 2
}
